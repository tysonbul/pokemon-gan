{
 "cells": [
  {
   "cell_type": "code",
   "execution_count": null,
   "id": "5cc75f02-bdf0-4bdb-b6cf-406629b372b4",
   "metadata": {},
   "outputs": [],
   "source": []
  }
 ],
 "metadata": {
  "kernelspec": {
   "display_name": "",
   "name": ""
  },
  "language_info": {
   "name": ""
  }
 },
 "nbformat": 4,
 "nbformat_minor": 5
}
