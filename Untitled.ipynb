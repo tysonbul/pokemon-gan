{
 "cells": [
  {
   "cell_type": "code",
   "execution_count": 11,
   "id": "86724372-b14e-4ae9-a388-50714f501867",
   "metadata": {},
   "outputs": [],
   "source": [
    "import requests\n",
    "pre = len('https://img.pokemondb.net/sprites/')\n",
    "def download_img(url):\n",
    "    url = url.strip()\n",
    "    name = url[pre:].replace('/', '-')\n",
    "    img_data = requests.get(url).content\n",
    "    with open(f\"./pokemon/{name}\", 'wb') as handler:\n",
    "        handler.write(img_data)\n"
   ]
  },
  {
   "cell_type": "code",
   "execution_count": 12,
   "id": "1b33eb38-e05b-45a8-b2d7-0be360fde441",
   "metadata": {},
   "outputs": [],
   "source": [
    "# with open(\"image_urls.txt\", 'r') as f:\n",
    "#     for line in f.readlines():\n",
    "#         line = line.strip()\n",
    "#         pre = len('https://img.pokemondb.net/sprites/')\n",
    "#         name = line[pre:].replace('/', '-')\n",
    "#         download_img(line, f\"./pokemon/{name}\")\n",
    "        "
   ]
  },
  {
   "cell_type": "code",
   "execution_count": 13,
   "id": "8846ee31-54d6-43a8-9040-aab702d64af7",
   "metadata": {},
   "outputs": [],
   "source": [
    "from multiprocessing import Pool"
   ]
  },
  {
   "cell_type": "code",
   "execution_count": 14,
   "id": "e541d7cf-4200-465c-9ab4-eb49e1f1399d",
   "metadata": {},
   "outputs": [],
   "source": [
    "with open(\"image_urls.txt\", 'r') as f:\n",
    "    urls = f.readlines()\n",
    "with Pool(10) as p:\n",
    "    p.map(download_img, urls)"
   ]
  },
  {
   "cell_type": "code",
   "execution_count": null,
   "id": "ff277b7b-6db4-42af-8c19-55a739c73880",
   "metadata": {},
   "outputs": [],
   "source": []
  }
 ],
 "metadata": {
  "kernelspec": {
   "display_name": "Python 3 (ipykernel)",
   "language": "python",
   "name": "python3"
  },
  "language_info": {
   "codemirror_mode": {
    "name": "ipython",
    "version": 3
   },
   "file_extension": ".py",
   "mimetype": "text/x-python",
   "name": "python",
   "nbconvert_exporter": "python",
   "pygments_lexer": "ipython3",
   "version": "3.7.11"
  }
 },
 "nbformat": 4,
 "nbformat_minor": 5
}
